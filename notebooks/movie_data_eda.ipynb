{
 "cells": [
  {
   "cell_type": "code",
   "execution_count": 32,
   "id": "b7ae1c23-9e9f-4b0f-a64e-d6cec59937bb",
   "metadata": {},
   "outputs": [],
   "source": [
    "import re\n",
    "import torch\n",
    "import torch.distributed as dist\n",
    "import numpy as np\n",
    "import pandas as pd\n",
    "\n",
    "import matplotlib.pyplot as plt\n",
    "import seaborn as sns \n",
    "\n",
    "from tqdm import tqdm\n",
    "from IPython.display import display\n",
    "from torch.nn.parallel import DistributedDataParallelCPU as DDP\n",
    "from torch.utils.data import DataLoader\n",
    "from pandas.util import hash_pandas_object\n",
    "from transformers import DistilBertTokenizerFast, DistilBertModel\n",
    "\n",
    "from movie_prediction.data_loaders.processed import load_actor_movie_lines\n",
    "from movie_prediction.constants import *"
   ]
  },
  {
   "cell_type": "code",
   "execution_count": 2,
   "id": "ebc41b41-51c5-409c-8643-238bc3dad735",
   "metadata": {},
   "outputs": [],
   "source": [
    "%load_ext autoreload\n",
    "%autoreload 2\n",
    "%reload_ext movie_prediction\n",
    "%reload_ext movie_prediction.constants"
   ]
  },
  {
   "cell_type": "code",
   "execution_count": 3,
   "id": "b7bb5a71-4b7f-4e88-8383-1afcb2fc13df",
   "metadata": {},
   "outputs": [],
   "source": [
    "sns.set_style('whitegrid')\n",
    "\n",
    "plt.rcParams['font.size'] = 16"
   ]
  },
  {
   "cell_type": "markdown",
   "id": "e32a2d22-39db-482c-b55e-0e4c6862b19a",
   "metadata": {},
   "source": [
    "### Configuration"
   ]
  },
  {
   "cell_type": "code",
   "execution_count": 23,
   "id": "9fedcbb3-69c4-42bc-a51f-6b5f43dab85a",
   "metadata": {},
   "outputs": [],
   "source": [
    "device = torch.device('cuda') if torch.cuda.is_available() else torch.device('cpu')\n",
    "\n",
    "ACTOR_LINES_CACHE_FP = '../data/actor_lines.tsv'\n",
    "PRETRAINED_MODEL = 'distilbert-base-uncased'\n",
    "BATCH_SIZE = 32"
   ]
  },
  {
   "cell_type": "markdown",
   "id": "1ce6011e-0338-47b0-bb60-c7d5effb716b",
   "metadata": {},
   "source": [
    "### Load Processed Data"
   ]
  },
  {
   "cell_type": "code",
   "execution_count": 5,
   "id": "e6ec8eb6-c439-4d4a-9eaa-49d141a965cf",
   "metadata": {},
   "outputs": [
    {
     "name": "stdout",
     "output_type": "stream",
     "text": [
      "Loading actor lines from cache: ../data/actor_lines.tsv\n"
     ]
    },
    {
     "data": {
      "text/html": [
       "<div>\n",
       "<style scoped>\n",
       "    .dataframe tbody tr th:only-of-type {\n",
       "        vertical-align: middle;\n",
       "    }\n",
       "\n",
       "    .dataframe tbody tr th {\n",
       "        vertical-align: top;\n",
       "    }\n",
       "\n",
       "    .dataframe thead th {\n",
       "        text-align: right;\n",
       "    }\n",
       "</style>\n",
       "<table border=\"1\" class=\"dataframe\">\n",
       "  <thead>\n",
       "    <tr style=\"text-align: right;\">\n",
       "      <th></th>\n",
       "      <th>Line ID</th>\n",
       "      <th>Character</th>\n",
       "      <th>Title</th>\n",
       "      <th>Year</th>\n",
       "      <th>Utterance</th>\n",
       "      <th>Character (Raw)</th>\n",
       "      <th>Character (First)</th>\n",
       "      <th>Character (Last)</th>\n",
       "      <th>Character (First+Last)</th>\n",
       "      <th>Character (Full)</th>\n",
       "      <th>Principal</th>\n",
       "      <th>Principal Lines</th>\n",
       "    </tr>\n",
       "  </thead>\n",
       "  <tbody>\n",
       "    <tr>\n",
       "      <th>0</th>\n",
       "      <td>56884</td>\n",
       "      <td>JACK</td>\n",
       "      <td>LEGEND</td>\n",
       "      <td>1985</td>\n",
       "      <td>No wait... please... listen...</td>\n",
       "      <td>JACK</td>\n",
       "      <td>JACK</td>\n",
       "      <td>NaN</td>\n",
       "      <td>NaN</td>\n",
       "      <td>JACK</td>\n",
       "      <td>THOMAS CRUISE MAPOTHER IV</td>\n",
       "      <td>1655</td>\n",
       "    </tr>\n",
       "    <tr>\n",
       "      <th>1</th>\n",
       "      <td>56885</td>\n",
       "      <td>JACK</td>\n",
       "      <td>LEGEND</td>\n",
       "      <td>1985</td>\n",
       "      <td>Oh no... Don't you understand?</td>\n",
       "      <td>JACK</td>\n",
       "      <td>JACK</td>\n",
       "      <td>NaN</td>\n",
       "      <td>NaN</td>\n",
       "      <td>JACK</td>\n",
       "      <td>THOMAS CRUISE MAPOTHER IV</td>\n",
       "      <td>1655</td>\n",
       "    </tr>\n",
       "  </tbody>\n",
       "</table>\n",
       "</div>"
      ],
      "text/plain": [
       "   Line ID Character   Title  Year                       Utterance  \\\n",
       "0    56884      JACK  LEGEND  1985  No wait... please... listen...   \n",
       "1    56885      JACK  LEGEND  1985  Oh no... Don't you understand?   \n",
       "\n",
       "  Character (Raw) Character (First) Character (Last) Character (First+Last)  \\\n",
       "0            JACK              JACK              NaN                    NaN   \n",
       "1            JACK              JACK              NaN                    NaN   \n",
       "\n",
       "  Character (Full)                  Principal  Principal Lines  \n",
       "0             JACK  THOMAS CRUISE MAPOTHER IV             1655  \n",
       "1             JACK  THOMAS CRUISE MAPOTHER IV             1655  "
      ]
     },
     "execution_count": 5,
     "metadata": {},
     "output_type": "execute_result"
    }
   ],
   "source": [
    "# actor_lines = load_actor_movie_lines(export_fp=ACTOR_LINES_CACHE_FP)\n",
    "actor_lines = load_actor_movie_lines(cache_fp=ACTOR_LINES_CACHE_FP)\n",
    "actor_lines.head(2)"
   ]
  },
  {
   "cell_type": "markdown",
   "id": "ec9096a2-3f10-4c1c-862b-7ede22a896b2",
   "metadata": {},
   "source": [
    "### Check if Problem Is Tractable "
   ]
  },
  {
   "cell_type": "code",
   "execution_count": 6,
   "id": "f313a26d-3b85-4ce5-9e9c-34fa25965aca",
   "metadata": {
    "collapsed": true,
    "jupyter": {
     "outputs_hidden": true
    },
    "tags": []
   },
   "outputs": [
    {
     "name": "stderr",
     "output_type": "stream",
     "text": [
      "Some weights of the model checkpoint at distilbert-base-uncased were not used when initializing DistilBertModel: ['vocab_layer_norm.bias', 'vocab_transform.weight', 'vocab_projector.weight', 'vocab_transform.bias', 'vocab_layer_norm.weight', 'vocab_projector.bias']\n",
      "- This IS expected if you are initializing DistilBertModel from the checkpoint of a model trained on another task or with another architecture (e.g. initializing a BertForSequenceClassification model from a BertForPreTraining model).\n",
      "- This IS NOT expected if you are initializing DistilBertModel from the checkpoint of a model that you expect to be exactly identical (initializing a BertForSequenceClassification model from a BertForSequenceClassification model).\n"
     ]
    },
    {
     "data": {
      "text/plain": [
       "DistilBertModel(\n",
       "  (embeddings): Embeddings(\n",
       "    (word_embeddings): Embedding(30522, 768, padding_idx=0)\n",
       "    (position_embeddings): Embedding(512, 768)\n",
       "    (LayerNorm): LayerNorm((768,), eps=1e-12, elementwise_affine=True)\n",
       "    (dropout): Dropout(p=0.1, inplace=False)\n",
       "  )\n",
       "  (transformer): Transformer(\n",
       "    (layer): ModuleList(\n",
       "      (0): TransformerBlock(\n",
       "        (attention): MultiHeadSelfAttention(\n",
       "          (dropout): Dropout(p=0.1, inplace=False)\n",
       "          (q_lin): Linear(in_features=768, out_features=768, bias=True)\n",
       "          (k_lin): Linear(in_features=768, out_features=768, bias=True)\n",
       "          (v_lin): Linear(in_features=768, out_features=768, bias=True)\n",
       "          (out_lin): Linear(in_features=768, out_features=768, bias=True)\n",
       "        )\n",
       "        (sa_layer_norm): LayerNorm((768,), eps=1e-12, elementwise_affine=True)\n",
       "        (ffn): FFN(\n",
       "          (dropout): Dropout(p=0.1, inplace=False)\n",
       "          (lin1): Linear(in_features=768, out_features=3072, bias=True)\n",
       "          (lin2): Linear(in_features=3072, out_features=768, bias=True)\n",
       "        )\n",
       "        (output_layer_norm): LayerNorm((768,), eps=1e-12, elementwise_affine=True)\n",
       "      )\n",
       "      (1): TransformerBlock(\n",
       "        (attention): MultiHeadSelfAttention(\n",
       "          (dropout): Dropout(p=0.1, inplace=False)\n",
       "          (q_lin): Linear(in_features=768, out_features=768, bias=True)\n",
       "          (k_lin): Linear(in_features=768, out_features=768, bias=True)\n",
       "          (v_lin): Linear(in_features=768, out_features=768, bias=True)\n",
       "          (out_lin): Linear(in_features=768, out_features=768, bias=True)\n",
       "        )\n",
       "        (sa_layer_norm): LayerNorm((768,), eps=1e-12, elementwise_affine=True)\n",
       "        (ffn): FFN(\n",
       "          (dropout): Dropout(p=0.1, inplace=False)\n",
       "          (lin1): Linear(in_features=768, out_features=3072, bias=True)\n",
       "          (lin2): Linear(in_features=3072, out_features=768, bias=True)\n",
       "        )\n",
       "        (output_layer_norm): LayerNorm((768,), eps=1e-12, elementwise_affine=True)\n",
       "      )\n",
       "      (2): TransformerBlock(\n",
       "        (attention): MultiHeadSelfAttention(\n",
       "          (dropout): Dropout(p=0.1, inplace=False)\n",
       "          (q_lin): Linear(in_features=768, out_features=768, bias=True)\n",
       "          (k_lin): Linear(in_features=768, out_features=768, bias=True)\n",
       "          (v_lin): Linear(in_features=768, out_features=768, bias=True)\n",
       "          (out_lin): Linear(in_features=768, out_features=768, bias=True)\n",
       "        )\n",
       "        (sa_layer_norm): LayerNorm((768,), eps=1e-12, elementwise_affine=True)\n",
       "        (ffn): FFN(\n",
       "          (dropout): Dropout(p=0.1, inplace=False)\n",
       "          (lin1): Linear(in_features=768, out_features=3072, bias=True)\n",
       "          (lin2): Linear(in_features=3072, out_features=768, bias=True)\n",
       "        )\n",
       "        (output_layer_norm): LayerNorm((768,), eps=1e-12, elementwise_affine=True)\n",
       "      )\n",
       "      (3): TransformerBlock(\n",
       "        (attention): MultiHeadSelfAttention(\n",
       "          (dropout): Dropout(p=0.1, inplace=False)\n",
       "          (q_lin): Linear(in_features=768, out_features=768, bias=True)\n",
       "          (k_lin): Linear(in_features=768, out_features=768, bias=True)\n",
       "          (v_lin): Linear(in_features=768, out_features=768, bias=True)\n",
       "          (out_lin): Linear(in_features=768, out_features=768, bias=True)\n",
       "        )\n",
       "        (sa_layer_norm): LayerNorm((768,), eps=1e-12, elementwise_affine=True)\n",
       "        (ffn): FFN(\n",
       "          (dropout): Dropout(p=0.1, inplace=False)\n",
       "          (lin1): Linear(in_features=768, out_features=3072, bias=True)\n",
       "          (lin2): Linear(in_features=3072, out_features=768, bias=True)\n",
       "        )\n",
       "        (output_layer_norm): LayerNorm((768,), eps=1e-12, elementwise_affine=True)\n",
       "      )\n",
       "      (4): TransformerBlock(\n",
       "        (attention): MultiHeadSelfAttention(\n",
       "          (dropout): Dropout(p=0.1, inplace=False)\n",
       "          (q_lin): Linear(in_features=768, out_features=768, bias=True)\n",
       "          (k_lin): Linear(in_features=768, out_features=768, bias=True)\n",
       "          (v_lin): Linear(in_features=768, out_features=768, bias=True)\n",
       "          (out_lin): Linear(in_features=768, out_features=768, bias=True)\n",
       "        )\n",
       "        (sa_layer_norm): LayerNorm((768,), eps=1e-12, elementwise_affine=True)\n",
       "        (ffn): FFN(\n",
       "          (dropout): Dropout(p=0.1, inplace=False)\n",
       "          (lin1): Linear(in_features=768, out_features=3072, bias=True)\n",
       "          (lin2): Linear(in_features=3072, out_features=768, bias=True)\n",
       "        )\n",
       "        (output_layer_norm): LayerNorm((768,), eps=1e-12, elementwise_affine=True)\n",
       "      )\n",
       "      (5): TransformerBlock(\n",
       "        (attention): MultiHeadSelfAttention(\n",
       "          (dropout): Dropout(p=0.1, inplace=False)\n",
       "          (q_lin): Linear(in_features=768, out_features=768, bias=True)\n",
       "          (k_lin): Linear(in_features=768, out_features=768, bias=True)\n",
       "          (v_lin): Linear(in_features=768, out_features=768, bias=True)\n",
       "          (out_lin): Linear(in_features=768, out_features=768, bias=True)\n",
       "        )\n",
       "        (sa_layer_norm): LayerNorm((768,), eps=1e-12, elementwise_affine=True)\n",
       "        (ffn): FFN(\n",
       "          (dropout): Dropout(p=0.1, inplace=False)\n",
       "          (lin1): Linear(in_features=768, out_features=3072, bias=True)\n",
       "          (lin2): Linear(in_features=3072, out_features=768, bias=True)\n",
       "        )\n",
       "        (output_layer_norm): LayerNorm((768,), eps=1e-12, elementwise_affine=True)\n",
       "      )\n",
       "    )\n",
       "  )\n",
       ")"
      ]
     },
     "execution_count": 6,
     "metadata": {},
     "output_type": "execute_result"
    }
   ],
   "source": [
    "# Initialize Tokenizer and Models\n",
    "tokenizer = DistilBertTokenizerFast.from_pretrained(PRETRAINED_MODEL)\n",
    "model = DistilBertModel.from_pretrained(PRETRAINED_MODEL, output_hidden_states=True)\n",
    "model.to(device)"
   ]
  },
  {
   "cell_type": "code",
   "execution_count": 7,
   "id": "a8c1b47b-349c-4476-bc77-56202e4bb674",
   "metadata": {},
   "outputs": [],
   "source": [
    "# Create Dataset\n",
    "class PrincipalDataset(torch.utils.data.Dataset):\n",
    "    def __init__(self, encodings, labels):\n",
    "        self.encodings = encodings\n",
    "        self.labels = labels\n",
    "        \n",
    "    def __getitem__(self, idx):\n",
    "        item = {key: torch.tensor(val[idx]) for key, val in self.encodings.items()}\n",
    "        item['labels'] = torch.tensor(self.labels[idx])\n",
    "        return item\n",
    "    \n",
    "    def __len__(self):\n",
    "        return len(self.labels)"
   ]
  },
  {
   "cell_type": "code",
   "execution_count": null,
   "id": "495eb44a-58db-4fa0-9a7f-05e1d8490795",
   "metadata": {},
   "outputs": [
    {
     "name": "stderr",
     "output_type": "stream",
     "text": [
      " 43%|████▎     | 32/75 [04:25<06:00,  8.39s/it]"
     ]
    }
   ],
   "source": [
    "toy_list = ['THOMAS JEFFREY HANKS', 'PHILIP ANTHONY HOPKINS', 'KURT VOGEL RUSSELL']\n",
    "toy_data = actor_lines[actor_lines[PRINCIPAL].isin(toy_list)]\n",
    "toy_dataset = PrincipalDataset(\n",
    "    tokenizer(list(toy_data[UTTERANCE]), padding=True, truncation=True),\n",
    "    list(toy_data[PRINCIPAL].replace(\n",
    "        {'THOMAS JEFFREY HANKS': 0, 'PHILIP ANTHONY HOPKINS': 1, 'KURT VOGEL RUSSELL': 2}))\n",
    ")\n",
    "toy_loader = DataLoader(toy_dataset, batch_size=BATCH_SIZE)\n",
    "\n",
    "def get_embeddings(loader):\n",
    "    toy_embeddings = []\n",
    "    with torch.no_grad():\n",
    "        for batch in tqdm(toy_loader):\n",
    "            input_ids = batch['input_ids'].to(device)\n",
    "            attention_mask = batch['attention_mask'].to(device)\n",
    "            labels = batch['labels'].to(device)\n",
    "            outputs = model(input_ids, attention_mask=attention_mask)\n",
    "            toy_embeddings.append(outputs[0][:, 0])\n",
    "            \n",
    "    toy_embeddings = torch.cat(matrices).cpu().detach().numpy()\n",
    "    \n",
    "    return toy_embeddings\n",
    "\n",
    "toy_embeddings = get_embeddings(toy_loader)"
   ]
  },
  {
   "cell_type": "markdown",
   "id": "3ac3e928-0185-4c5f-ad9f-631264ba2a3c",
   "metadata": {},
   "source": [
    "### Check Actor Distribution"
   ]
  },
  {
   "cell_type": "code",
   "execution_count": 17,
   "id": "d4daf7fd-e9b6-498e-a6cb-43fd9feabfc7",
   "metadata": {},
   "outputs": [
    {
     "data": {
      "image/png": "[encoded data removed]",
      "text/plain": [
       "<Figure size 1440x720 with 1 Axes>"
      ]
     },
     "metadata": {},
     "output_type": "display_data"
    }
   ],
   "source": [
    "f, ax = plt.subplots(1, 1, figsize=(20,10))\n",
    "sns.histplot(actor_lines[PRINCIPAL], ax=ax)\n",
    "ax.xaxis.set_ticklabels([])\n",
    "ax.get_xaxis().set_visible(False)"
   ]
  },
  {
   "cell_type": "code",
   "execution_count": 28,
   "id": "1e6f1a53-d654-4082-ab7f-9e4eff07243a",
   "metadata": {},
   "outputs": [],
   "source": [
    "# There appears to be a steep drop off after 600\n",
    "# We will use only actors with more than 600 lines\n",
    "counts = actor_lines[PRINCIPAL].value_counts()\n",
    "target_actors = counts[counts > 600].index.values"
   ]
  },
  {
   "cell_type": "code",
   "execution_count": 33,
   "id": "ddd2d561-ab8f-4ab9-bfb8-00a4caedd13a",
   "metadata": {},
   "outputs": [
    {
     "ename": "NameError",
     "evalue": "name 'UTTERANCE_HASH' is not defined",
     "output_type": "error",
     "traceback": [
      "\u001b[0;31m---------------------------------------------------------------------------\u001b[0m",
      "\u001b[0;31mNameError\u001b[0m                                 Traceback (most recent call last)",
      "\u001b[0;32m<ipython-input-33-5d157d5a9948>\u001b[0m in \u001b[0;36m<module>\u001b[0;34m\u001b[0m\n\u001b[0;32m----> 1\u001b[0;31m \u001b[0mactor_lines\u001b[0m\u001b[0;34m[\u001b[0m\u001b[0mUTTERANCE_HASH\u001b[0m\u001b[0;34m]\u001b[0m\u001b[0;34m\u001b[0m\u001b[0;34m\u001b[0m\u001b[0m\n\u001b[0m\u001b[1;32m      2\u001b[0m \u001b[0mtarget_actor_filt\u001b[0m \u001b[0;34m=\u001b[0m \u001b[0mactor_lines\u001b[0m\u001b[0;34m[\u001b[0m\u001b[0mPRINCIPAL\u001b[0m\u001b[0;34m]\u001b[0m\u001b[0;34m\u001b[0m\u001b[0;34m\u001b[0m\u001b[0m\n",
      "\u001b[0;31mNameError\u001b[0m: name 'UTTERANCE_HASH' is not defined"
     ]
    }
   ],
   "source": [
    "actor_lines[UTTERANCE_HASH] = hash_pandas_object(actor_lines[UTTERANCE])\n",
    "\n",
    "target_actor_filt = actor_lines[PRINCIPAL]\n",
    "actor_"
   ]
  },
  {
   "cell_type": "code",
   "execution_count": null,
   "id": "65f07460-e5e8-446d-a487-06efd80a107b",
   "metadata": {},
   "outputs": [],
   "source": []
  },
  {
   "cell_type": "code",
   "execution_count": null,
   "id": "b0469bb7-3763-4171-b67a-3e05a1754395",
   "metadata": {},
   "outputs": [],
   "source": [
    "test_list = ['THOMAS JEFFREY HANKS', 'PHILIP ANTHONY HOPKINS', 'KURT VOGEL RUSSELL']"
   ]
  },
  {
   "cell_type": "code",
   "execution_count": null,
   "id": "5a59f083-3c6d-48a8-9aa0-9a7197261f7a",
   "metadata": {},
   "outputs": [],
   "source": []
  },
  {
   "cell_type": "code",
   "execution_count": 27,
   "id": "aaeb3d77-5310-4bf9-b448-eabe86a5f1e9",
   "metadata": {},
   "outputs": [],
   "source": []
  },
  {
   "cell_type": "code",
   "execution_count": null,
   "id": "5d064e4c-35c2-499b-9cad-fba2d17e8c44",
   "metadata": {},
   "outputs": [],
   "source": []
  }
 ],
 "metadata": {
  "kernelspec": {
   "display_name": "Python 3",
   "language": "python",
   "name": "python3"
  },
  "language_info": {
   "codemirror_mode": {
    "name": "ipython",
    "version": 3
   },
   "file_extension": ".py",
   "mimetype": "text/x-python",
   "name": "python",
   "nbconvert_exporter": "python",
   "pygments_lexer": "ipython3",
   "version": "3.8.10"
  }
 },
 "nbformat": 4,
 "nbformat_minor": 5
}
